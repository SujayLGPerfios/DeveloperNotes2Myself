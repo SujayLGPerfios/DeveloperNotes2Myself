{
 "cells": [
  {
   "cell_type": "markdown",
   "metadata": {},
   "source": [
    "# Use iPython Notebook\n",
    "\n",
    "## Basics\n",
    "- Create a file with  extension as ipynb to create an iPython Notebook. \n",
    "- Use a mix of markdown and python code to create any report.\n",
    "- Use Ctrl+Enter to start an iPython notebook.\n",
    "- Use LaTex Notation to Write Formula\n",
    "\n",
    "$$c = \\sqrt{a^2 + b^2}$$"
   ]
  },
  {
   "cell_type": "code",
   "execution_count": 1,
   "metadata": {},
   "outputs": [
    {
     "name": "stdout",
     "output_type": "stream",
     "text": [
      "30\n"
     ]
    }
   ],
   "source": [
    "# Code block\n",
    "x = 10\n",
    "y = 20\n",
    "sum = x + y\n",
    "print sum"
   ]
  }
 ],
 "metadata": {},
 "nbformat": 4,
 "nbformat_minor": 0
}